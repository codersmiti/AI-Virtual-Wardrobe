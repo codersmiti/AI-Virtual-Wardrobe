{
  "nbformat": 4,
  "nbformat_minor": 0,
  "metadata": {
    "colab": {
      "provenance": []
    },
    "kernelspec": {
      "name": "python3",
      "display_name": "Python 3"
    },
    "language_info": {
      "name": "python"
    }
  },
  "cells": [
    {
      "cell_type": "code",
      "source": [
        "!gdown --id 1c6LDdUOeJX8pu9eSqAIVRfMl34Jn5sWE"
      ],
      "metadata": {
        "id": "RL1ko87KY5KE"
      },
      "execution_count": null,
      "outputs": []
    },
    {
      "cell_type": "code",
      "execution_count": null,
      "metadata": {
        "id": "mNKNujbcYusP"
      },
      "outputs": [],
      "source": [
        "import cv2\n",
        "import numpy as np\n",
        "from google.colab.patches import cv2_imshow\n",
        "\n",
        "# Load the input image (face) and the left and right earring images (with transparent backgrounds)\n",
        "input_image = cv2.imread(\"/content/000028_1.jpg\")  # Replace with your input face image\n",
        "left_earring_image = cv2.imread(\"/content/leftear.png\", cv2.IMREAD_UNCHANGED)  # Replace with your left earring image\n",
        "right_earring_image = cv2.imread(\"/content/rightear.png\", cv2.IMREAD_UNCHANGED)  # Replace with your right earring image\n",
        "\n",
        "# Detect face using a pre-trained face detector (you can use Haar cascades or deep learning-based models)\n",
        "# Extract the face region from the input image\n",
        "\n",
        "# Example face detection (you can replace this with your own face detection code)\n",
        "face_cascade = cv2.CascadeClassifier(cv2.data.haarcascades + \"haarcascade_frontalface_default.xml\")\n",
        "faces = face_cascade.detectMultiScale(input_image, scaleFactor=1.1, minNeighbors=5)\n",
        "\n",
        "if len(faces) > 0:\n",
        "    x, y, w, h = faces[0]\n",
        "    face_roi = input_image[y:y + h, x:x + w]\n",
        "\n",
        "    # Resize the left and right earring images to fit the face\n",
        "    left_earring_resized = cv2.resize(left_earring_image, (w // 2, h))\n",
        "    right_earring_resized = cv2.resize(right_earring_image, (w // 2, h))\n",
        "\n",
        "    # Overlay the left earring on the left side of the face\n",
        "    for i in range(h):\n",
        "        for j in range(w // 2):\n",
        "            if left_earring_resized[i, j, 3] != 0:  # Check if the pixel is not transparent\n",
        "                face_roi[i, j] = left_earring_resized[i, j, :3]  # Overlay the RGB channels\n",
        "\n",
        "    # Overlay the right earring on the right side of the face\n",
        "    for i in range(h):\n",
        "        for j in range(w // 2, w):\n",
        "            if j - w // 2 < right_earring_resized.shape[1]:  # Ensure within bounds\n",
        "                if right_earring_resized[i, j - w // 2, 3] != 0:  # Check if the pixel is not transparent\n",
        "                    face_roi[i, j] = right_earring_resized[i, j - w // 2, :3]  # Overlay the RGB channels\n",
        "\n",
        "\n",
        "    print(\"Earrings overlaid successfully!\")\n",
        "else:\n",
        "    print(\"No face detected in the input image.\")\n",
        "\n",
        "# Display the output image (optional)\n",
        "cv2_imshow(input_image)\n",
        "cv2.waitKey(0)\n",
        "cv2.destroyAllWindows()"
      ]
    },
    {
      "cell_type": "code",
      "source": [
        " import cv2\n",
        "from google.colab.patches import cv2_imshow\n",
        "\n",
        "def resize_earrings(face_width, face_height, earring_image):\n",
        "    earring_height = int(face_height * 0.3)\n",
        "    earring_width = int(face_width * 0.3)\n",
        "    resized_earring = cv2.resize(earring_image, (earring_width, earring_height))\n",
        "    return resized_earring\n",
        "\n",
        "# Load the input image (face) and the left and right earring images (with transparent backgrounds)\n",
        "input_image = cv2.imread(\"/content/OIG2.jpeg\")  # Replace with your input face image\n",
        "left_earring_image = cv2.imread(\"/content/leftear_1.png\", cv2.IMREAD_UNCHANGED)  # Replace with your left earring image\n",
        "right_earring_image = cv2.imread(\"/content/rightear_1.png\", cv2.IMREAD_UNCHANGED)  # Replace with your right earring image\n",
        "\n",
        "# Detect face using a pre-trained face detector (you can use Haar cascades or deep learning-based models)\n",
        "# Extract the face region from the input image\n",
        "\n",
        "# Example face detection (you can replace this with your own face detection code)\n",
        "face_cascade = cv2.CascadeClassifier(cv2.data.haarcascades + \"haarcascade_frontalface_default.xml\")\n",
        "faces = face_cascade.detectMultiScale(input_image, scaleFactor=1.1, minNeighbors=5)\n",
        "\n",
        "if len(faces) > 0:\n",
        "    x, y, w, h = faces[0]\n",
        "    face_center_x = x + w // 2\n",
        "    face_center_y = y + h // 2\n",
        "\n",
        "    # Resize the left and right earring images to fit the face\n",
        "    left_earring_resized = resize_earrings(w, h, left_earring_image)\n",
        "    right_earring_resized = resize_earrings(w, h, right_earring_image)\n",
        "\n",
        "    # Calculate positions for left and right earrings\n",
        "    left_ear_x = face_center_x - int(w * 0.65)\n",
        "    left_ear_y = y + int(h * 0.55)\n",
        "\n",
        "    right_ear_x = face_center_x + int(w * 0.15)\n",
        "    right_ear_y = y + int(h * 0.7)\n",
        "\n",
        "    # Overlay the left earring\n",
        "    for i in range(left_earring_resized.shape[0]):\n",
        "        for j in range(left_earring_resized.shape[1]):\n",
        "            if left_earring_resized[i, j, 3] != 0:\n",
        "                input_image[left_ear_y + i, left_ear_x + j] = left_earring_resized[i, j, :3]\n",
        "\n",
        "    # Overlay the right earring\n",
        "    for i in range(right_earring_resized.shape[0]):\n",
        "        for j in range(right_earring_resized.shape[1]):\n",
        "            if right_earring_resized[i, j, 3] != 0:\n",
        "                input_image[right_ear_y + i, right_ear_x + j] = right_earring_resized[i, j, :3]\n",
        "\n",
        "    print(\"Earrings overlaid successfully!\")\n",
        "else:\n",
        "    print(\"No face detected in the input image.\")\n",
        "\n",
        "# Display the output image (optional)\n",
        "cv2_imshow(input_image)\n",
        "cv2.waitKey(0)\n",
        "cv2.destroyAllWindows()"
      ],
      "metadata": {
        "id": "MKSgv_twYy7t"
      },
      "execution_count": null,
      "outputs": []
    }
  ]
}